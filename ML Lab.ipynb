{
 "cells": [
  {
   "cell_type": "code",
   "execution_count": 31,
   "id": "2ee702be",
   "metadata": {},
   "outputs": [
    {
     "name": "stdout",
     "output_type": "stream",
     "text": [
      "---Array a---\n",
      "[1 2 3 4]\n",
      "Size =  4\n",
      "Shape =  (4,)\n",
      "Dimension =  1\n",
      "DataType =  int32\n",
      " \n",
      "---Array b---\n",
      "[[1 2]\n",
      " [3 4]\n",
      " [5 6]]\n",
      "Size =  6\n",
      "Shape =  (3, 2)\n",
      "Dimension =  2\n",
      "DataType =  int32\n",
      " \n",
      "---Array c---\n",
      "[[ 1  2  3  4]\n",
      " [ 5  6  7  8]\n",
      " [ 9 10 11 12]]\n",
      "Size =  12\n",
      "Shape =  (3, 4)\n",
      "Dimension =  2\n",
      "DataType =  int32\n",
      " \n",
      "------------------------------------------------------------------------------------\n",
      "Array a1\n",
      "[[1 2 3 8]\n",
      " [5 4 9 7]]\n",
      " \n",
      "Sorted a1\n",
      "[[1 2 3 8]\n",
      " [4 5 7 9]]\n",
      " \n",
      "Array a2\n",
      "[[45 87 25 44]\n",
      " [87 64 15 34]]\n",
      " \n",
      "Sorted a2\n",
      "[[25 44 45 87]\n",
      " [15 34 64 87]]\n",
      "\n",
      "Concating Both Arrays\n",
      "[[ 1  2  3  8]\n",
      " [ 5  4  9  7]\n",
      " [45 87 25 44]\n",
      " [87 64 15 34]]\n",
      " \n",
      "[0. 0. 0.]\n",
      " \n",
      "[1. 1. 1. 1. 1. 1.]\n"
     ]
    }
   ],
   "source": [
    "import numpy as np\n",
    "\n",
    "print(\"---Array a---\")\n",
    "a = np.array([1,2,3,4])\n",
    "print(a)\n",
    "print(\"Size = \",a.size)\n",
    "print(\"Shape = \",a.shape)\n",
    "print(\"Dimension = \",a.ndim)\n",
    "print(\"DataType = \",a.dtype)\n",
    "print(\" \")\n",
    "\n",
    "\n",
    "\n",
    "print(\"---Array b---\")\n",
    "b = np.array([[1,2],[3,4],[5,6]])\n",
    "print(b)\n",
    "print(\"Size = \",b.size)\n",
    "print(\"Shape = \",b.shape)\n",
    "print(\"Dimension = \",b.ndim)\n",
    "print(\"DataType = \",b.dtype)\n",
    "print(\" \")\n",
    "\n",
    "\n",
    "print(\"---Array c---\")\n",
    "c = np.array([[1,2,3,4],[5,6,7,8],[9,10,11,12]])\n",
    "print(c)\n",
    "print(\"Size = \",c.size)\n",
    "print(\"Shape = \",c.shape)\n",
    "print(\"Dimension = \",c.ndim)\n",
    "print(\"DataType = \",c.dtype)\n",
    "print(\" \")\n",
    "\n",
    "print(\"------------------------------------------------------------------------------------\")\n",
    "\n",
    "print(\"Array a1\")\n",
    "a1 = np.array([[1,2,3,8],[5,4,9,7]])\n",
    "print(a1)\n",
    "print(\" \")\n",
    "print(\"Sorted a1\")\n",
    "print(np.sort(a1))\n",
    "\n",
    "print(\" \")\n",
    "print(\"Array a2\")\n",
    "a2 = np.array([[45,87,25,44],[87,64,15,34]])\n",
    "print(a2)\n",
    "print(\" \")\n",
    "print(\"Sorted a2\")\n",
    "print(np.sort(a2))\n",
    "\n",
    "print(\"\")\n",
    "print(\"Concating Both Arrays\")\n",
    "print(np.concatenate((a1,a2)))\n",
    "\n",
    "print(\" \")\n",
    "a3 = np.zeros(3)\n",
    "print(a3)\n",
    "\n",
    "print(\" \")\n",
    "a4 = np.ones(6)\n",
    "print(a4)\n"
   ]
  },
  {
   "cell_type": "code",
   "execution_count": 42,
   "id": "7a2190d0",
   "metadata": {},
   "outputs": [
    {
     "name": "stdout",
     "output_type": "stream",
     "text": [
      "Randomaly Created Array using random.rand()\n",
      "[[0.09775737 0.99116045 0.11039556 0.58561215 0.64365767]\n",
      " [0.21823335 0.56515324 0.12161285 0.41005623 0.29189125]]\n",
      "\n",
      "Creating Array using arange()\n",
      "[0 1 2 3 4]\n",
      "b1 =  [5 6 7 8 9]\n",
      "b2 =  [ 2  4  6  8 10]\n",
      "b3 =  [8 6 4 2]\n"
     ]
    }
   ],
   "source": [
    "print(\"Randomaly Created Array using random.rand()\")\n",
    "a = np.random.rand(2,5)\n",
    "print(a)\n",
    "\n",
    "print(\"\")\n",
    "print(\"Creating Array using arange()\")\n",
    "b = np.arange(5)\n",
    "print(b)\n",
    "b1 = np.arange(5,10)\n",
    "print(\"b1 = \",b1)\n",
    "b2 = np.arange(2,12,2)\n",
    "print(\"b2 = \",b2)\n",
    "b3 = np.arange(8,0,-2)\n",
    "print(\"b3 = \",b3)"
   ]
  },
  {
   "cell_type": "code",
   "execution_count": 41,
   "id": "bc1f761b",
   "metadata": {},
   "outputs": [
    {
     "name": "stdout",
     "output_type": "stream",
     "text": [
      "Creating array using linspace()\n",
      "a =  [1.    1.375 1.75  2.125 2.5   2.875 3.25  3.625]\n"
     ]
    }
   ],
   "source": [
    "print(\"Creating array using linspace()\")\n",
    "a = np.linspace(1,4,8,0)\n",
    "print(\"a = \",a)"
   ]
  },
  {
   "cell_type": "code",
   "execution_count": 47,
   "id": "ddefa74e",
   "metadata": {},
   "outputs": [
    {
     "name": "stdout",
     "output_type": "stream",
     "text": [
      "3\n",
      "3\n",
      "[2 3]\n",
      "[1 2 3]\n",
      "[3 4 5]\n",
      "[1 2 3 4 5]\n"
     ]
    }
   ],
   "source": [
    "a = np.array([1,2,3,4,5])\n",
    "print(a[2])\n",
    "print(a[-3])\n",
    "print(a[1:3])\n",
    "print(a[:3])\n",
    "print(a[2:])\n",
    "print(a[:])"
   ]
  },
  {
   "cell_type": "code",
   "execution_count": 49,
   "id": "e11c4a1f",
   "metadata": {},
   "outputs": [
    {
     "name": "stdout",
     "output_type": "stream",
     "text": [
      "8\n",
      "\n",
      "[[1 2 3]\n",
      " [6 7 8]]\n",
      "\n",
      "[[1 2 3]\n",
      " [6 7 8]]\n",
      "\n",
      "[[ 6  7  8  9 10]]\n",
      "\n",
      "[[ 1  2  3  4  5]\n",
      " [ 6  7  8  9 10]]\n"
     ]
    }
   ],
   "source": [
    "a =np.array([\n",
    "                [1,2,3,4,5],\n",
    "                [6,7,8,9,10]])\n",
    "print(a[1,2])\n",
    "print(\"\")\n",
    "print(a[0:2,0:3])\n",
    "print(\"\")\n",
    "print(a[:,:3])\n",
    "print(\"\")\n",
    "\n",
    "print(a[1:,:])\n",
    "print(\"\")\n",
    "print(a[:,:])"
   ]
  },
  {
   "cell_type": "code",
   "execution_count": 53,
   "id": "72bc454d",
   "metadata": {},
   "outputs": [
    {
     "name": "stdout",
     "output_type": "stream",
     "text": [
      "Mathematics opertaion on Arrays\n",
      " \n",
      "Array 1\n",
      "[1 2 3 4]\n",
      " \n",
      "Array 2\n",
      "[5 6 7 8]\n",
      " \n",
      "Addition =  [ 6  8 10 12]\n",
      "Subtraction =  [-4 -4 -4 -4]\n",
      "Multiplication =  [ 5 12 21 32]\n",
      "Division =  [0.2        0.33333333 0.42857143 0.5       ]\n",
      " \n",
      "Maximum of A =  4\n",
      "Minimum of B =  5\n",
      " \n",
      "2 Dim Array [[ 1  2  3  4  5]\n",
      " [ 6  7  8  9 10]]\n",
      "5\n"
     ]
    }
   ],
   "source": [
    "print(\"Mathematics opertaion on Arrays\")\n",
    "print(\" \")\n",
    "print(\"Array 1\")\n",
    "a = np.array([1,2,3,4])\n",
    "print(a)\n",
    "\n",
    "print(\" \")\n",
    "print(\"Array 2\")\n",
    "b = np.array([5,6,7,8])\n",
    "print(b)\n",
    "\n",
    "print(\" \")\n",
    "print(\"Addition = \",a+b)\n",
    "print(\"Subtraction = \",a-b)\n",
    "print(\"Multiplication = \",a*b)\n",
    "print(\"Division = \",a/b)\n",
    "print(\" \")\n",
    "print(\"Maximum of A = \",np.max(a))\n",
    "print(\"Minimum of B = \",np.min(b))\n",
    "\n",
    "a1 = np.array([\n",
    "                [1,2,3,4,5],\n",
    "                [6,7,8,9,10]])\n",
    "print(\" \")\n",
    "print(\"2 Dim Array\",a1)\n",
    "print(np.max(a1[0:1]))"
   ]
  },
  {
   "cell_type": "code",
   "execution_count": 58,
   "id": "814d570e",
   "metadata": {},
   "outputs": [
    {
     "name": "stdout",
     "output_type": "stream",
     "text": [
      "Array 1\n",
      "[1 2 3 4 5]\n",
      " \n",
      "Array 2\n",
      "[5 6 7 8]\n",
      " \n",
      "[3 4 5]\n",
      " \n",
      "[5]\n"
     ]
    }
   ],
   "source": [
    "print(\"Array 1\")\n",
    "a = np.array([1,2,3,4,5])\n",
    "print(a)\n",
    "\n",
    "print(\" \")\n",
    "print(\"Array 2\")\n",
    "b = np.array([5,6,7,8])\n",
    "print(b)\n",
    "\n",
    "print(\" \")\n",
    "print(a[(a > 2) & (a < 11)])\n",
    "print(\" \")\n",
    "\n",
    "print(b[(b > 9) | (b == 5)])"
   ]
  }
 ],
 "metadata": {
  "kernelspec": {
   "display_name": "Python 3 (ipykernel)",
   "language": "python",
   "name": "python3"
  },
  "language_info": {
   "codemirror_mode": {
    "name": "ipython",
    "version": 3
   },
   "file_extension": ".py",
   "mimetype": "text/x-python",
   "name": "python",
   "nbconvert_exporter": "python",
   "pygments_lexer": "ipython3",
   "version": "3.9.12"
  }
 },
 "nbformat": 4,
 "nbformat_minor": 5
}
