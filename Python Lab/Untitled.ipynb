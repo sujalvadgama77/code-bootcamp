{
 "cells": [
  {
   "cell_type": "code",
   "execution_count": 3,
   "id": "7d07cf29-2795-4e44-a5ee-88d65bba5421",
   "metadata": {},
   "outputs": [
    {
     "name": "stdin",
     "output_type": "stream",
     "text": [
      "Enter the length of Square 5\n"
     ]
    },
    {
     "name": "stdout",
     "output_type": "stream",
     "text": [
      "Area =  25 \n",
      "Perimeter =  20\n"
     ]
    }
   ],
   "source": [
    "a = int(input(\"Enter the length of Square : \"))\n",
    "print(\"Area = \",a*a,\"\\nPerimeter = \",4*a)"
   ]
  },
  {
   "cell_type": "code",
   "execution_count": 5,
   "id": "992ac982-60ae-41f9-b518-7e1cc8ae7fb4",
   "metadata": {},
   "outputs": [
    {
     "name": "stdin",
     "output_type": "stream",
     "text": [
      "Enter 1st Value =  5\n",
      "Enter 2nd Value =  2\n"
     ]
    },
    {
     "name": "stdout",
     "output_type": "stream",
     "text": [
      "Value 1 =  5 \n",
      "Value 2 =  2\n",
      "Value after Swap : \n",
      "Value 1 =  2 \n",
      "Value 2 =  5\n"
     ]
    }
   ],
   "source": [
    "a1 = int(input(\"Enter 1st Value = \"))\n",
    "a2 = int(input(\"Enter 2nd Value = \"))\n",
    "print(\"Value 1 = \",a1,\"\\nValue 2 = \",a2)\n",
    "a1,a2 = a2,a1\n",
    "print(\"Value after Swap : \\nValue 1 = \",a1,\"\\nValue 2 = \",a2)"
   ]
  },
  {
   "cell_type": "code",
   "execution_count": 7,
   "id": "0d836fc4-331f-4854-a4b8-6f4373e83913",
   "metadata": {},
   "outputs": [
    {
     "name": "stdin",
     "output_type": "stream",
     "text": [
      "Enter a Value to Find its Absolute Value :  -5\n"
     ]
    },
    {
     "name": "stdout",
     "output_type": "stream",
     "text": [
      "Absolute Value =  5\n"
     ]
    }
   ],
   "source": [
    "a1 = float(input(\"Enter a Value to Find its Absolute Value : \"))\n",
    "print(\"Absolute Value = \",abs(a))\n"
   ]
  },
  {
   "cell_type": "code",
   "execution_count": 13,
   "id": "bf6ce23f-5638-4886-92d3-4d82419c8b55",
   "metadata": {},
   "outputs": [
    {
     "name": "stdout",
     "output_type": "stream",
     "text": [
      "Hello World!\n"
     ]
    }
   ],
   "source": [
    "a = 'print(\"Hello World!\")'\n",
    "eval(a)"
   ]
  },
  {
   "cell_type": "code",
   "execution_count": 16,
   "id": "bfa6b32c-ec49-4740-9b55-8e202ab797cd",
   "metadata": {},
   "outputs": [
    {
     "name": "stdin",
     "output_type": "stream",
     "text": [
      "Enter No. of Days :  94\n"
     ]
    },
    {
     "name": "stdout",
     "output_type": "stream",
     "text": [
      "Months =  3    Days =  4\n"
     ]
    }
   ],
   "source": [
    "days = int(input(\"Enter No. of Days : \"))\n",
    "nmonths = 0\n",
    "ndays = 0\n",
    "while days >= 30:\n",
    "    nmonths += 1\n",
    "    days = days - 30\n",
    "\n",
    "ndays = days\n",
    "print(\"Months = \",nmonths,\"   Days = \",ndays)"
   ]
  },
  {
   "cell_type": "code",
   "execution_count": 21,
   "id": "32be772b-919b-4cff-8a37-cd31cbd1e6d5",
   "metadata": {},
   "outputs": [
    {
     "name": "stdin",
     "output_type": "stream",
     "text": [
      "Enter Your Percentage(%) =  100\n"
     ]
    },
    {
     "name": "stdout",
     "output_type": "stream",
     "text": [
      "Congratulations You Passed with AA Grade\n"
     ]
    }
   ],
   "source": [
    "a = int(input(\"Enter Your Percentage(%) = \"))\n",
    "\n",
    "if a <= 100 and a >= 90:\n",
    "    print(\"Congratulations You Passed with AA Grade\")\n",
    "elif a <= 89 and a >= 85:\n",
    "    print(\"Congratulations You Passed with AB Grade\")\n",
    "elif a <= 84 and a >= 75:\n",
    "    print(\"Congratulations You Passed with BB Grade\")\n",
    "elif a <= 74 and a >= 65:\n",
    "    print(\"Congratulations You Passed with BC Grade\")\n",
    "elif a <= 64 and a >= 55:\n",
    "    print(\"Congratulations You Passed with CC Grade\")\n",
    "elif a <= 54 and a >= 45:\n",
    "    print(\"Congratulations You Passed with CD Grade\")\n",
    "elif a <= 44 and a >= 35:\n",
    "    print(\"Congratulations You Passed with DD Grade\")\n",
    "elif a <= 34:\n",
    "    print(\"Opps! You Failed\")\n",
    "else:\n",
    "    print(\"Enter Valid Percentage\")\n"
   ]
  },
  {
   "cell_type": "code",
   "execution_count": 24,
   "id": "c5a32be8-108b-4bf7-aeff-651428c9de10",
   "metadata": {},
   "outputs": [
    {
     "name": "stdin",
     "output_type": "stream",
     "text": [
      "Enter Year :  1900\n"
     ]
    },
    {
     "name": "stdout",
     "output_type": "stream",
     "text": [
      "1900  is not a leap year !\n"
     ]
    }
   ],
   "source": [
    "year = int(input(\"Enter Year : \"))\n",
    "\n",
    "if year%4 == 0 and year%100 == 0 and year%400 == 0:\n",
    "    print(year,\" is a leap Year !\")\n",
    "elif year%4 == 0 and year%100 == 0:\n",
    "    print(year,\" is not a leap year !\")\n",
    "elif year%4 == 0:\n",
    "    print(year,\" is a Leap Year !\")\n",
    "else:\n",
    "    print(year,\" is not a leap Year !\")"
   ]
  },
  {
   "cell_type": "code",
   "execution_count": 30,
   "id": "dc83c554-06de-4b4a-95fd-e59eca916e34",
   "metadata": {},
   "outputs": [
    {
     "name": "stdin",
     "output_type": "stream",
     "text": [
      "Enter Value for a :  1\n",
      "Enter Value for b :  10\n",
      "Enter Value for c :  -24\n"
     ]
    },
    {
     "name": "stdout",
     "output_type": "stream",
     "text": [
      "Root 1 =  2.0 \n",
      "Root 2 =  -12.0\n"
     ]
    }
   ],
   "source": [
    "import math\n",
    "a = int(input(\"Enter Value for a : \"))\n",
    "b = int(input(\"Enter Value for b : \"))\n",
    "c = int(input(\"Enter Value for c : \"))\n",
    "f = b**2\n",
    "d = (-b + math.sqrt(f-4*a*c)) / 2*a\n",
    "d2 = (-b - math.sqrt(f-4*a*c)) / 2*a\n",
    "\n",
    "print(\"Root 1 = \",d,\"\\nRoot 2 = \",d2)"
   ]
  },
  {
   "cell_type": "code",
   "execution_count": null,
   "id": "24bf091d-dbd6-426a-9b64-8039c78a11d0",
   "metadata": {},
   "outputs": [],
   "source": [
    "print(\"1 = ROCK\\n2 = PAPER\\n3 = SCISSORS\")\n",
    "\n",
    "round = 3\n",
    "point1 = 0\n",
    "point2 = 0\n",
    "\n",
    "p1,p2 = int(input(\"Enter Choice Seperated by Space : \")).split()\n",
    "\n",
    "while round != 0:\n",
    "\n",
    "if p1 == 1 and p2 == 1 or p1 == 2 and p2 == 2 or p1 == 3 adn p2 == 3:\n",
    "    print(\"Match Draw !!!\")\n",
    "elif p1 == 1 and p2 == 3 or p1 == 2 and p2 == 1 or p1 == 3 and p2 == 2:\n",
    "     point1 += 1\n",
    "     round -= 1\n",
    "elif p2 == 1 and p1 == 3 or p2 == 2 and p1 == 1 or p1 == :\n",
    "    point2 += 1\n"
   ]
  },
  {
   "cell_type": "code",
   "execution_count": 2,
   "id": "395b2e10-d88b-495b-bebf-655fc18b1378",
   "metadata": {},
   "outputs": [
    {
     "name": "stdout",
     "output_type": "stream",
     "text": [
      "[22, 25, 99]\n"
     ]
    },
    {
     "data": {
      "text/plain": [
       "list"
      ]
     },
     "execution_count": 2,
     "metadata": {},
     "output_type": "execute_result"
    }
   ],
   "source": [
    "list1 = [22,25,99]\n",
    "print(list1)\n",
    "type(list1)"
   ]
  },
  {
   "cell_type": "code",
   "execution_count": 4,
   "id": "c7a439c2-73d0-4c62-a3e1-5b5a80d15464",
   "metadata": {},
   "outputs": [
    {
     "data": {
      "text/plain": [
       "99"
      ]
     },
     "execution_count": 4,
     "metadata": {},
     "output_type": "execute_result"
    }
   ],
   "source": [
    "max(list1)"
   ]
  },
  {
   "cell_type": "code",
   "execution_count": 54,
   "id": "645a588f-c318-4e92-a0c1-0571a143ce11",
   "metadata": {},
   "outputs": [
    {
     "name": "stdout",
     "output_type": "stream",
     "text": [
      "Temperature Converter!!!\n"
     ]
    },
    {
     "name": "stdin",
     "output_type": "stream",
     "text": [
      "Enter No. of Values to be Converted :  3\n"
     ]
    },
    {
     "name": "stdout",
     "output_type": "stream",
     "text": [
      "\n",
      "\n",
      "1 : Celcius --> Fahrenheit \n",
      "2 : Fahrenheit --> Celcius\n"
     ]
    },
    {
     "name": "stdin",
     "output_type": "stream",
     "text": [
      "\n",
      "\n",
      "Enter Choice of Operation :  1\n"
     ]
    },
    {
     "name": "stdout",
     "output_type": "stream",
     "text": [
      "Enter Values : \n"
     ]
    },
    {
     "name": "stdin",
     "output_type": "stream",
     "text": [
      " 29\n",
      " 35\n",
      " 39\n"
     ]
    },
    {
     "name": "stdout",
     "output_type": "stream",
     "text": [
      "84.2 F\n",
      "95.0 F\n",
      "102.2 F\n"
     ]
    }
   ],
   "source": [
    "print(\"Temperature Converter!!!\")\n",
    "times = int(input(\"Enter No. of Values to be Converted : \"))\n",
    "print(\"\\n\\n1 : Celcius --> Fahrenheit \\n2 : Fahrenheit --> Celcius\")\n",
    "choice = int(input(\"\\n\\nEnter Choice of Operation : \"))\n",
    "\n",
    "list = []\n",
    "\n",
    "print(\"Enter Values : \")\n",
    "\n",
    "for i in range(times):\n",
    "    values = int(input())\n",
    "    list.append(values)\n",
    "\n",
    "temp = tuple(list)\n",
    "ans = 0\n",
    "\n",
    "if choice == 1:\n",
    "    for i in temp:\n",
    "        ans = i*(9/5)+32\n",
    "        print(ans,\"F\")\n",
    "else:\n",
    "    for i in temp:\n",
    "        ans = (i-32)*(5/9)\n",
    "        print(ans,\"C\")"
   ]
  },
  {
   "cell_type": "raw",
   "id": "115605bc-ac86-439c-be1b-7e2bbfa6c58a",
   "metadata": {},
   "source": [
    "size = int(input(\"Enter No. of Values : \"))\n",
    "\n",
    "list = []\n",
    "print(\"Enter Values : \")\n",
    "for i in range(size):\n",
    "    val = int(input())\n",
    "    list.append(val)\n",
    "\n",
    "print(\"List = \",list)\n",
    "\n",
    "ans = 0\n",
    "for i in list:\n",
    "    ans += i\n",
    "\n",
    "print(\"Sum of All Elements in List are : \", ans)\n",
    "    "
   ]
  },
  {
   "cell_type": "code",
   "execution_count": 57,
   "id": "149b6ac3-6e21-4e7c-84e0-fe4792cd8d29",
   "metadata": {},
   "outputs": [
    {
     "name": "stdout",
     "output_type": "stream",
     "text": [
      "Union of Lists\n",
      "List 1 =  [12, 56, 34, 79, 56, 67, 89, 57, 98, 83] \n",
      "List 2 =  [56, 79, 29, 48, 80, 79, 44, 99.28, 76]\n"
     ]
    },
    {
     "ename": "TypeError",
     "evalue": "'list' object is not callable",
     "output_type": "error",
     "traceback": [
      "\u001b[1;31m---------------------------------------------------------------------------\u001b[0m",
      "\u001b[1;31mTypeError\u001b[0m                                 Traceback (most recent call last)",
      "Cell \u001b[1;32mIn[57], line 8\u001b[0m\n\u001b[0;32m      5\u001b[0m \u001b[38;5;28mprint\u001b[39m(\u001b[38;5;124m\"\u001b[39m\u001b[38;5;124mList 1 = \u001b[39m\u001b[38;5;124m\"\u001b[39m,list1,\u001b[38;5;124m\"\u001b[39m\u001b[38;5;130;01m\\n\u001b[39;00m\u001b[38;5;124mList 2 = \u001b[39m\u001b[38;5;124m\"\u001b[39m,list2)\n\u001b[0;32m      6\u001b[0m temp \u001b[38;5;241m=\u001b[39m list1 \u001b[38;5;241m+\u001b[39m list2\n\u001b[1;32m----> 8\u001b[0m ans \u001b[38;5;241m=\u001b[39m \u001b[38;5;28mlist\u001b[39m(\u001b[38;5;28mset\u001b[39m(temp))\n\u001b[0;32m     10\u001b[0m \u001b[38;5;28mprint\u001b[39m(\u001b[38;5;124m\"\u001b[39m\u001b[38;5;124mUnion of both lists : \u001b[39m\u001b[38;5;124m\"\u001b[39m,ans)\n",
      "\u001b[1;31mTypeError\u001b[0m: 'list' object is not callable"
     ]
    }
   ],
   "source": [
    "print(\"Union of Lists\")\n",
    "list1 = [12,56,34,79,56,67,89,57,98,83]\n",
    "list2 = [56,79,29,48,80,79,44,99.28,76]\n",
    "\n",
    "print(\"List 1 = \",list1,\"\\nList 2 = \",list2)\n",
    "temp = list1 + list2\n",
    "\n",
    "ans = list(set(temp))\n",
    "\n",
    "print(\"Union of both lists : \",ans)"
   ]
  }
 ],
 "metadata": {
  "kernelspec": {
   "display_name": "Python 3 (ipykernel)",
   "language": "python",
   "name": "python3"
  },
  "language_info": {
   "codemirror_mode": {
    "name": "ipython",
    "version": 3
   },
   "file_extension": ".py",
   "mimetype": "text/x-python",
   "name": "python",
   "nbconvert_exporter": "python",
   "pygments_lexer": "ipython3",
   "version": "3.11.7"
  }
 },
 "nbformat": 4,
 "nbformat_minor": 5
}
