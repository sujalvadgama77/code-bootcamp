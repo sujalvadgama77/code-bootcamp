{
 "cells": [
  {
   "cell_type": "code",
   "execution_count": 2,
   "id": "fcdb91fd-5462-4f99-97f3-7ad6557887ee",
   "metadata": {},
   "outputs": [
    {
     "name": "stdin",
     "output_type": "stream",
     "text": [
      "Enter the numberator :  4\n",
      "Enter the denominator :  5\n"
     ]
    },
    {
     "name": "stdout",
     "output_type": "stream",
     "text": [
      "0.8\n"
     ]
    }
   ],
   "source": [
    "def divide_numbers():\n",
    "    try:\n",
    "        numerator = float(input(\"Enter the numberator : \"))\n",
    "        denominator = float(input(\"Enter the denominator : \"))\n",
    "\n",
    "        result = numerator / denominator\n",
    "        print (result)\n",
    "\n",
    "    except ZeroDivisionError:\n",
    "        print(\"Error : Division by zero is not allowed\")\n",
    "\n",
    "    except ValueError:\n",
    "        print(\"Error : Invalid input.\")\n",
    "\n",
    "divide_numbers()"
   ]
  },
  {
   "cell_type": "code",
   "execution_count": 3,
   "id": "db20bf14-f8dd-46df-93ed-28e54b670f55",
   "metadata": {},
   "outputs": [
    {
     "name": "stdin",
     "output_type": "stream",
     "text": [
      "Enter a number :  5\n"
     ]
    },
    {
     "name": "stdout",
     "output_type": "stream",
     "text": [
      "You entered:5.0\n"
     ]
    }
   ],
   "source": [
    "def validate_numeric_input():\n",
    "    try:\n",
    "        number = float(input(\"Enter a number : \"))\n",
    "        print(f\"You entered:{number}\")\n",
    "\n",
    "    except ValueError:\n",
    "        print(\"Error : Please enter a valid numeric value.\")\n",
    "\n",
    "validate_numeric_input()"
   ]
  },
  {
   "cell_type": "code",
   "execution_count": 21,
   "id": "f0150a27-5bfc-402d-97ee-e01cc72202a3",
   "metadata": {},
   "outputs": [
    {
     "name": "stdin",
     "output_type": "stream",
     "text": [
      "Enter a positive number :  -9\n"
     ]
    },
    {
     "name": "stdout",
     "output_type": "stream",
     "text": [
      "Custom Exception :  Negative number not allowed\n"
     ]
    }
   ],
   "source": [
    "class MyCustomException(Exception):\n",
    "    def __init__ (self, message, context):\n",
    "        self.message = message\n",
    "        self.context = context\n",
    "        super().__init__(self.message)\n",
    "\n",
    "def raise_custom_exception():\n",
    "    try:\n",
    "        value = int(input(\"Enter a positive number : \"))\n",
    "        if value < 0:\n",
    "            raise MyCustomException(\"Negative number not allowed\", f\"Value entered : {value}\")\n",
    "        else:\n",
    "            print(f\"Valid number : {value}\")\n",
    "\n",
    "    except MyCustomException as a :\n",
    "        print(f\"Custom Exception : \",a.message)\n",
    "\n",
    "    except ValueError: \n",
    "        print(\"Error : Please enter an integer.\")\n",
    "\n",
    "raise_custom_exception()"
   ]
  }
 ],
 "metadata": {
  "kernelspec": {
   "display_name": "Python 3 (ipykernel)",
   "language": "python",
   "name": "python3"
  },
  "language_info": {
   "codemirror_mode": {
    "name": "ipython",
    "version": 3
   },
   "file_extension": ".py",
   "mimetype": "text/x-python",
   "name": "python",
   "nbconvert_exporter": "python",
   "pygments_lexer": "ipython3",
   "version": "3.11.7"
  }
 },
 "nbformat": 4,
 "nbformat_minor": 5
}
