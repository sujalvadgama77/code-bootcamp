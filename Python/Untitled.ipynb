{
 "cells": [
  {
   "cell_type": "code",
   "execution_count": 8,
   "id": "ec411786-44f8-40eb-b53c-dba6f7c5e9d9",
   "metadata": {},
   "outputs": [
    {
     "name": "stdin",
     "output_type": "stream",
     "text": [
      "Enter first value for ClassOne :  2\n",
      "Enter second value for ClassOne :  3\n",
      "Enter first value for ClassTwo :  4\n",
      "Enter second value for ClassTwo :  5\n"
     ]
    },
    {
     "name": "stdout",
     "output_type": "stream",
     "text": [
      "The final product of both products is : 120\n"
     ]
    }
   ],
   "source": [
    "class ClassOne:\n",
    "    def __init__(self,a,b):\n",
    "        self.a = a\n",
    "        self.b = b\n",
    "\n",
    "    def result(self):\n",
    "        return self.a * self.b\n",
    "\n",
    "class ClassTwo:\n",
    "    def __init__(self, c, d):\n",
    "        self.c = c\n",
    "        self.d = d\n",
    "\n",
    "    def result(self):\n",
    "        return self.c * self.d\n",
    "\n",
    "class ClassThree:\n",
    "    def __init__(self, result1, result2):\n",
    "        self.result1 = result1\n",
    "        self.result2 = result2\n",
    "\n",
    "    def final_result(self):\n",
    "        return self.result1 * self.result2\n",
    "\n",
    "def result_generator(ClassOne, ClassTwo):\n",
    "    yield ClassOne.result()\n",
    "    yield ClassTwo.result()\n",
    "\n",
    "class ResultIterator:\n",
    "    def __init__(self, generator):\n",
    "        self.generator = generator\n",
    "\n",
    "    def __iter__(self):\n",
    "        return self\n",
    "\n",
    "    def __next__(self):\n",
    "        return next(self.generator)\n",
    "\n",
    "a = int(input(\"Enter first value for ClassOne : \"))\n",
    "b = int(input(\"Enter second value for ClassOne : \"))\n",
    "\n",
    "c = int(input(\"Enter first value for ClassTwo : \"))\n",
    "d = int(input(\"Enter second value for ClassTwo : \"))\n",
    "\n",
    "classOne = ClassOne(a,b)\n",
    "classTwo = ClassTwo(c,d)\n",
    "\n",
    "gen = result_generator(classOne, classTwo)\n",
    "iterator = ResultIterator(gen)\n",
    "\n",
    "result1 = next(iterator)\n",
    "result2 = next(iterator)\n",
    "\n",
    "classThree = ClassThree(result1, result2)\n",
    "final_result = classThree.final_result()\n",
    "\n",
    "print(f\"The final product of both products is : {final_result}\")"
   ]
  }
 ],
 "metadata": {
  "kernelspec": {
   "display_name": "Python 3 (ipykernel)",
   "language": "python",
   "name": "python3"
  },
  "language_info": {
   "codemirror_mode": {
    "name": "ipython",
    "version": 3
   },
   "file_extension": ".py",
   "mimetype": "text/x-python",
   "name": "python",
   "nbconvert_exporter": "python",
   "pygments_lexer": "ipython3",
   "version": "3.11.7"
  }
 },
 "nbformat": 4,
 "nbformat_minor": 5
}
